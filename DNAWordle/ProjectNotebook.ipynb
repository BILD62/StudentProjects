{
 "cells": [
  {
   "cell_type": "markdown",
   "metadata": {},
   "source": [
    "# Project Description"
   ]
  },
  {
   "cell_type": "markdown",
   "metadata": {},
   "source": [
    "This project consists of multiple aspects that both team members are very interested in. As biology majors, we are very familiar with the central dogma and the processes behind how DNA is made into the proteins within our bodies. DNA is first transcribed into RNA which is then translated into an amino acid sequence. The nucleotides, the basic unit of a nucleic acid, are arranged in specific orders which are recognized as codons. A codon is a sequence of three nucleotides that codes for one specific amino acid. These specific amino acids all have a single letter abbreviation which will be utilized in our project code. Given our familiarity with these pathways from our coursework, we wanted to take these principles and design a game that could be fun for users. Our code begins by having a dictionary that contains 10 different DNA sequences. One will be randomly chosen one for the user to participate in the game with. The DNA will then be transcribed into the complementary strand of RNA. From here, the code will loop through that RNA sequence in order to tell the user which amino acids are apart of the RNA strand using their single letter abbreviations. The user then will have to unscramble the single letter abbreviations in order to come up with a random 6 letter word. \n",
    "\n",
    "### Team Member Names and Contributions\n",
    "See PDF notebook."
   ]
  },
  {
   "cell_type": "markdown",
   "metadata": {},
   "source": [
    "## Playing with the Central Dogma\n",
    "\n",
    "Run the cell below to import the necessary functions"
   ]
  },
  {
   "cell_type": "code",
   "execution_count": 1,
   "metadata": {},
   "outputs": [],
   "source": [
    "from final_module import bio_game"
   ]
  },
  {
   "cell_type": "markdown",
   "metadata": {},
   "source": [
    "### Run the cell below to get your DNA strand!"
   ]
  },
  {
   "cell_type": "code",
   "execution_count": 2,
   "metadata": {},
   "outputs": [
    {
     "name": "stdout",
     "output_type": "stream",
     "text": [
      "Your DNA strand is: AGATGAGCACGATTACTA\n"
     ]
    }
   ],
   "source": [
    "bio_game.get_dna_strand()"
   ]
  },
  {
   "cell_type": "markdown",
   "metadata": {},
   "source": [
    "### Transcription\n",
    "\n",
    "Enter your DNA strand as a string into the function below to get your complementary RNA strand"
   ]
  },
  {
   "cell_type": "code",
   "execution_count": null,
   "metadata": {},
   "outputs": [],
   "source": [
    "bio_game.dna_to_rna()"
   ]
  },
  {
   "cell_type": "markdown",
   "metadata": {},
   "source": [
    "### Translation\n",
    "\n",
    "Enter your RNA strand as a string into the function to get your list of amino acids"
   ]
  },
  {
   "cell_type": "code",
   "execution_count": null,
   "metadata": {
    "scrolled": true
   },
   "outputs": [],
   "source": [
    "bio_game.rna_to_aa()"
   ]
  },
  {
   "cell_type": "markdown",
   "metadata": {},
   "source": [
    "### It's Game Time\n",
    "\n",
    "Run the cell below and unscramble your letters to get the correct 'protein'(word)"
   ]
  },
  {
   "cell_type": "code",
   "execution_count": null,
   "metadata": {},
   "outputs": [],
   "source": [
    "bio_game.guess_the_word()"
   ]
  },
  {
   "cell_type": "markdown",
   "metadata": {},
   "source": [
    "## Reflection\n",
    "\n",
    "See PDF notebook."
   ]
  }
 ],
 "metadata": {
  "kernelspec": {
   "display_name": "Python 3",
   "language": "python",
   "name": "python3"
  },
  "language_info": {
   "codemirror_mode": {
    "name": "ipython",
    "version": 3
   },
   "file_extension": ".py",
   "mimetype": "text/x-python",
   "name": "python",
   "nbconvert_exporter": "python",
   "pygments_lexer": "ipython3",
   "version": "3.7.3"
  }
 },
 "nbformat": 4,
 "nbformat_minor": 2
}
