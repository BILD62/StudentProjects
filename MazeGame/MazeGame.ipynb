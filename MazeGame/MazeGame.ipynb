{
 "cells": [
  {
   "cell_type": "markdown",
   "id": "1e079072",
   "metadata": {},
   "source": [
    "# Maze Game\n",
    "\n",
    "We decided to design a simple maze game for the final project because we wanted to try something\n",
    "out of our comfort zones and use the skills we learned in this class to design something fun. We both\n",
    "enjoy playing video games and it is exciting to be able to design a maze-like game that reminds\n",
    "us of old-school turn based RPGs. We think one of the best ways to learn coding is to apply\n",
    "its knowledge to re-create something we enjoy, which is why we chose to make a game instead\n",
    "of analyzing data. With a maze game, we can express our creativity and develop our problem-\n",
    "solving skills through customizing maze design and adding various obstacles to make the game\n",
    "more engaging and exciting for the players.\n",
    "\n",
    "Each player will start at the beginning of the maze with three lives. We will use a coordinate system\n",
    "as the basis for a maze with different rooms. At each room the player can make a decision about\n",
    "which direction to proceed in; Up, down, left, or right. Some rooms will only have limited choices,\n",
    "some rooms will be dead ends, and some rooms will have traps/poisons that cost the user one life\n",
    "and respawn them at the beginning of the maze. To add to the atmosphere we will include some\n",
    "text descriptions of events (i.e. current position/live count/hitting an obstacle). Once the player\n",
    "reaches the end a congratulatory message will be printed. Once the game ends (either through\n",
    "reaching the end of the maze or losing all three lives), a message asking the player whether to play\n",
    "again will be printed, allowing the player to restart the game if wanted."
   ]
  },
  {
   "cell_type": "markdown",
   "id": "8cd2a1ef",
   "metadata": {},
   "source": [
    "## Setup"
   ]
  },
  {
   "cell_type": "code",
   "execution_count": 1,
   "id": "2b95f9d9",
   "metadata": {},
   "outputs": [],
   "source": [
    "from my_module import classes\n",
    "from my_module import functions"
   ]
  },
  {
   "cell_type": "markdown",
   "id": "25ed624e",
   "metadata": {},
   "source": [
    "## Project Code"
   ]
  },
  {
   "cell_type": "code",
   "execution_count": 2,
   "id": "bcfcf260",
   "metadata": {},
   "outputs": [],
   "source": [
    "#Creating maze, starting position, finish position, and obstacles inputs.\n",
    "\n",
    "maze_demo = [\n",
    "[\"#\", \"#\", \"#\", \"#\", \"#\", \"#\", \"#\", \"#\", \"#\", \"#\"],\n",
    "[\"#\", \" \", \" \", \" \", \"#\", \" \", \" \", \" \", \" \", \"#\"],\n",
    "[\"#\", \" \", \"#\", \" \", \"#\", \" \", \"#\", \"#\", \" \", \"#\"],\n",
    "[\"#\", \" \", \"#\", \" \", \" \", \" \", \" \", \" \", \" \", \"#\"],\n",
    "[\"#\", \" \", \"#\", \"#\", \"#\", \"#\", \"#\", \"#\", \" \", \"#\"],\n",
    "[\"#\", \" \", \" \", \" \", \" \", \" \", \" \", \" \", \" \", \"#\"],\n",
    "[\"#\", \"#\", \"#\", \"#\", \"#\", \"#\", \"#\", \"#\", \"#\", \"#\"]\n",
    "]\n",
    "start_pos = (1,1)\n",
    "position = (1,1)\n",
    "finish = (3,5)\n",
    "obstacles = [(2,1)]\n",
    "# Creating instance of Player class.\n",
    "player1 = classes.Player(maze_demo, start_pos, finish, obstacles, lives=3)"
   ]
  },
  {
   "cell_type": "code",
   "execution_count": 3,
   "id": "878b121c",
   "metadata": {},
   "outputs": [
    {
     "name": "stdout",
     "output_type": "stream",
     "text": [
      "Welcome to game! You will have 3 lives.\n",
      "You are at (1, 1) right now.\n",
      "[#][#][#][#][#][#][#][#][#][#]\n",
      "[#][O][ ][ ][#][ ][ ][ ][ ][#]\n",
      "[#][ ][#][ ][#][ ][#][#][ ][#]\n",
      "[#][ ][#][ ][ ][ ][ ][ ][ ][#]\n",
      "[#][ ][#][#][#][#][#][#][ ][#]\n",
      "[#][ ][ ][ ][ ][ ][ ][ ][ ][#]\n",
      "[#][#][#][#][#][#][#][#][#][#]\n",
      "You want to move in which direction? (up/down/left/right): up\n",
      "You hit a wall, please pick another direction.\n",
      "You are at (1, 1) right now.\n",
      "[#][#][#][#][#][#][#][#][#][#]\n",
      "[#][O][ ][ ][#][ ][ ][ ][ ][#]\n",
      "[#][ ][#][ ][#][ ][#][#][ ][#]\n",
      "[#][ ][#][ ][ ][ ][ ][ ][ ][#]\n",
      "[#][ ][#][#][#][#][#][#][ ][#]\n",
      "[#][ ][ ][ ][ ][ ][ ][ ][ ][#]\n",
      "[#][#][#][#][#][#][#][#][#][#]\n",
      "You want to move in which direction? (up/down/left/right): up\n",
      "You hit a wall, please pick another direction.\n",
      "You are at (1, 1) right now.\n",
      "[#][#][#][#][#][#][#][#][#][#]\n",
      "[#][O][ ][ ][#][ ][ ][ ][ ][#]\n",
      "[#][ ][#][ ][#][ ][#][#][ ][#]\n",
      "[#][ ][#][ ][ ][ ][ ][ ][ ][#]\n",
      "[#][ ][#][#][#][#][#][#][ ][#]\n",
      "[#][ ][ ][ ][ ][ ][ ][ ][ ][#]\n",
      "[#][#][#][#][#][#][#][#][#][#]\n",
      "You want to move in which direction? (up/down/left/right): left\n",
      "You hit a wall, please pick another direction.\n",
      "You are at (1, 1) right now.\n",
      "[#][#][#][#][#][#][#][#][#][#]\n",
      "[#][O][ ][ ][#][ ][ ][ ][ ][#]\n",
      "[#][ ][#][ ][#][ ][#][#][ ][#]\n",
      "[#][ ][#][ ][ ][ ][ ][ ][ ][#]\n",
      "[#][ ][#][#][#][#][#][#][ ][#]\n",
      "[#][ ][ ][ ][ ][ ][ ][ ][ ][#]\n",
      "[#][#][#][#][#][#][#][#][#][#]\n",
      "You want to move in which direction? (up/down/left/right): right\n",
      "You collided with a poison! You lost 1 life and have 2 lives left.\n",
      "You are at (1, 1) right now.\n",
      "[#][#][#][#][#][#][#][#][#][#]\n",
      "[#][O][ ][ ][#][ ][ ][ ][ ][#]\n",
      "[#][ ][#][ ][#][ ][#][#][ ][#]\n",
      "[#][ ][#][ ][ ][ ][ ][ ][ ][#]\n",
      "[#][ ][#][#][#][#][#][#][ ][#]\n",
      "[#][ ][ ][ ][ ][ ][ ][ ][ ][#]\n",
      "[#][#][#][#][#][#][#][#][#][#]\n",
      "You want to move in which direction? (up/down/left/right): right\n",
      "You collided with a poison! You lost 1 life and have 1 lives left.\n",
      "You are at (1, 1) right now.\n",
      "[#][#][#][#][#][#][#][#][#][#]\n",
      "[#][O][ ][ ][#][ ][ ][ ][ ][#]\n",
      "[#][ ][#][ ][#][ ][#][#][ ][#]\n",
      "[#][ ][#][ ][ ][ ][ ][ ][ ][#]\n",
      "[#][ ][#][#][#][#][#][#][ ][#]\n",
      "[#][ ][ ][ ][ ][ ][ ][ ][ ][#]\n",
      "[#][#][#][#][#][#][#][#][#][#]\n",
      "You want to move in which direction? (up/down/left/right): down\n",
      "You are at (1, 2) right now.\n",
      "[#][#][#][#][#][#][#][#][#][#]\n",
      "[#][ ][ ][ ][#][ ][ ][ ][ ][#]\n",
      "[#][O][#][ ][#][ ][#][#][ ][#]\n",
      "[#][ ][#][ ][ ][ ][ ][ ][ ][#]\n",
      "[#][ ][#][#][#][#][#][#][ ][#]\n",
      "[#][ ][ ][ ][ ][ ][ ][ ][ ][#]\n",
      "[#][#][#][#][#][#][#][#][#][#]\n"
     ]
    },
    {
     "ename": "KeyboardInterrupt",
     "evalue": "Interrupted by user",
     "output_type": "error",
     "traceback": [
      "\u001b[0;31m---------------------------------------------------------------------------\u001b[0m",
      "\u001b[0;31mKeyboardInterrupt\u001b[0m                         Traceback (most recent call last)",
      "\u001b[0;32m<ipython-input-3-a5636d66db53>\u001b[0m in \u001b[0;36m<module>\u001b[0;34m\u001b[0m\n\u001b[0;32m----> 1\u001b[0;31m \u001b[0mfunctions\u001b[0m\u001b[0;34m.\u001b[0m\u001b[0mplay_game\u001b[0m\u001b[0;34m(\u001b[0m\u001b[0mplayer1\u001b[0m\u001b[0;34m)\u001b[0m\u001b[0;34m\u001b[0m\u001b[0;34m\u001b[0m\u001b[0m\n\u001b[0m",
      "\u001b[0;32m~/Documents/BILD62/StudentProjects/MazeGame/my_module/functions.py\u001b[0m in \u001b[0;36mplay_game\u001b[0;34m(player)\u001b[0m\n\u001b[1;32m     13\u001b[0m         \u001b[0mplayer\u001b[0m\u001b[0;34m.\u001b[0m\u001b[0mvisualize\u001b[0m\u001b[0;34m(\u001b[0m\u001b[0;34m)\u001b[0m\u001b[0;34m\u001b[0m\u001b[0;34m\u001b[0m\u001b[0m\n\u001b[1;32m     14\u001b[0m \u001b[0;34m\u001b[0m\u001b[0m\n\u001b[0;32m---> 15\u001b[0;31m         \u001b[0mdirection\u001b[0m \u001b[0;34m=\u001b[0m \u001b[0minput\u001b[0m\u001b[0;34m(\u001b[0m\u001b[0;34m\"You want to move in which direction? (up/down/left/right): \"\u001b[0m\u001b[0;34m)\u001b[0m\u001b[0;34m\u001b[0m\u001b[0;34m\u001b[0m\u001b[0m\n\u001b[0m\u001b[1;32m     16\u001b[0m \u001b[0;34m\u001b[0m\u001b[0m\n\u001b[1;32m     17\u001b[0m         \u001b[0;32mif\u001b[0m \u001b[0mdirection\u001b[0m \u001b[0;34m!=\u001b[0m \u001b[0;34m\"up\"\u001b[0m \u001b[0;32mand\u001b[0m \u001b[0mdirection\u001b[0m \u001b[0;34m!=\u001b[0m \u001b[0;34m\"down\"\u001b[0m \u001b[0;32mand\u001b[0m \u001b[0mdirection\u001b[0m \u001b[0;34m!=\u001b[0m \u001b[0;34m\"left\"\u001b[0m \u001b[0;32mand\u001b[0m \u001b[0mdirection\u001b[0m \u001b[0;34m!=\u001b[0m \u001b[0;34m\"right\"\u001b[0m\u001b[0;34m:\u001b[0m\u001b[0;34m\u001b[0m\u001b[0;34m\u001b[0m\u001b[0m\n",
      "\u001b[0;32m~/anaconda3/lib/python3.7/site-packages/ipykernel/kernelbase.py\u001b[0m in \u001b[0;36mraw_input\u001b[0;34m(self, prompt)\u001b[0m\n\u001b[1;32m    849\u001b[0m             \u001b[0mself\u001b[0m\u001b[0;34m.\u001b[0m\u001b[0m_parent_ident\u001b[0m\u001b[0;34m,\u001b[0m\u001b[0;34m\u001b[0m\u001b[0;34m\u001b[0m\u001b[0m\n\u001b[1;32m    850\u001b[0m             \u001b[0mself\u001b[0m\u001b[0;34m.\u001b[0m\u001b[0m_parent_header\u001b[0m\u001b[0;34m,\u001b[0m\u001b[0;34m\u001b[0m\u001b[0;34m\u001b[0m\u001b[0m\n\u001b[0;32m--> 851\u001b[0;31m             \u001b[0mpassword\u001b[0m\u001b[0;34m=\u001b[0m\u001b[0;32mFalse\u001b[0m\u001b[0;34m,\u001b[0m\u001b[0;34m\u001b[0m\u001b[0;34m\u001b[0m\u001b[0m\n\u001b[0m\u001b[1;32m    852\u001b[0m         )\n\u001b[1;32m    853\u001b[0m \u001b[0;34m\u001b[0m\u001b[0m\n",
      "\u001b[0;32m~/anaconda3/lib/python3.7/site-packages/ipykernel/kernelbase.py\u001b[0m in \u001b[0;36m_input_request\u001b[0;34m(self, prompt, ident, parent, password)\u001b[0m\n\u001b[1;32m    890\u001b[0m             \u001b[0;32mexcept\u001b[0m \u001b[0mKeyboardInterrupt\u001b[0m\u001b[0;34m:\u001b[0m\u001b[0;34m\u001b[0m\u001b[0;34m\u001b[0m\u001b[0m\n\u001b[1;32m    891\u001b[0m                 \u001b[0;31m# re-raise KeyboardInterrupt, to truncate traceback\u001b[0m\u001b[0;34m\u001b[0m\u001b[0;34m\u001b[0m\u001b[0;34m\u001b[0m\u001b[0m\n\u001b[0;32m--> 892\u001b[0;31m                 \u001b[0;32mraise\u001b[0m \u001b[0mKeyboardInterrupt\u001b[0m\u001b[0;34m(\u001b[0m\u001b[0;34m\"Interrupted by user\"\u001b[0m\u001b[0;34m)\u001b[0m \u001b[0;32mfrom\u001b[0m \u001b[0;32mNone\u001b[0m\u001b[0;34m\u001b[0m\u001b[0;34m\u001b[0m\u001b[0m\n\u001b[0m\u001b[1;32m    893\u001b[0m             \u001b[0;32mexcept\u001b[0m \u001b[0mException\u001b[0m \u001b[0;32mas\u001b[0m \u001b[0me\u001b[0m\u001b[0;34m:\u001b[0m\u001b[0;34m\u001b[0m\u001b[0;34m\u001b[0m\u001b[0m\n\u001b[1;32m    894\u001b[0m                 \u001b[0mself\u001b[0m\u001b[0;34m.\u001b[0m\u001b[0mlog\u001b[0m\u001b[0;34m.\u001b[0m\u001b[0mwarning\u001b[0m\u001b[0;34m(\u001b[0m\u001b[0;34m\"Invalid Message:\"\u001b[0m\u001b[0;34m,\u001b[0m \u001b[0mexc_info\u001b[0m\u001b[0;34m=\u001b[0m\u001b[0;32mTrue\u001b[0m\u001b[0;34m)\u001b[0m\u001b[0;34m\u001b[0m\u001b[0;34m\u001b[0m\u001b[0m\n",
      "\u001b[0;31mKeyboardInterrupt\u001b[0m: Interrupted by user"
     ]
    }
   ],
   "source": [
    "functions.play_game(player1)"
   ]
  },
  {
   "cell_type": "code",
   "execution_count": null,
   "id": "d617330c",
   "metadata": {},
   "outputs": [],
   "source": []
  }
 ],
 "metadata": {
  "kernelspec": {
   "display_name": "Python 3",
   "language": "python",
   "name": "python3"
  },
  "language_info": {
   "codemirror_mode": {
    "name": "ipython",
    "version": 3
   },
   "file_extension": ".py",
   "mimetype": "text/x-python",
   "name": "python",
   "nbconvert_exporter": "python",
   "pygments_lexer": "ipython3",
   "version": "3.7.3"
  }
 },
 "nbformat": 4,
 "nbformat_minor": 5
}
